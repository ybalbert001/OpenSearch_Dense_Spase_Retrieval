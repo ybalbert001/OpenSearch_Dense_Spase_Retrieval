{
 "cells": [
  {
   "cell_type": "code",
   "execution_count": null,
   "id": "6c197463-fb38-4507-afc1-b6bf6c093b29",
   "metadata": {
    "tags": []
   },
   "outputs": [],
   "source": [
    "!pip install -q datasets\n",
    "!pip3 install boto3 requests requests_aws4auth argparse opensearch-py"
   ]
  },
  {
   "cell_type": "markdown",
   "id": "525c2b38-796c-4bc9-ad87-555a2017074b",
   "metadata": {},
   "source": [
    "### 1. Download Experiment Data - squad_v2 (下载实验数据squad_v2）"
   ]
  },
  {
   "cell_type": "code",
   "execution_count": 11,
   "id": "8d406d8c-5680-47fa-bbc3-ad0e34da41d2",
   "metadata": {
    "tags": []
   },
   "outputs": [
    {
     "name": "stderr",
     "output_type": "stream",
     "text": [
      "/home/ec2-user/anaconda3/envs/python3/lib/python3.10/site-packages/pandas/core/computation/expressions.py:21: UserWarning: Pandas requires version '2.8.0' or newer of 'numexpr' (version '2.7.3' currently installed).\n",
      "  from pandas.core.computation.check import NUMEXPR_INSTALLED\n"
     ]
    },
    {
     "name": "stdout",
     "output_type": "stream",
     "text": [
      "DatasetDict({\n",
      "    train: Dataset({\n",
      "        features: ['id', 'title', 'context', 'question', 'answers'],\n",
      "        num_rows: 130319\n",
      "    })\n",
      "    validation: Dataset({\n",
      "        features: ['id', 'title', 'context', 'question', 'answers'],\n",
      "        num_rows: 11873\n",
      "    })\n",
      "})\n",
      "{'id': '56be85543aeaaa14008c9063', 'title': 'Beyoncé', 'context': 'Beyoncé Giselle Knowles-Carter (/biːˈjɒnseɪ/ bee-YON-say) (born September 4, 1981) is an American singer, songwriter, record producer and actress. Born and raised in Houston, Texas, she performed in various singing and dancing competitions as a child, and rose to fame in the late 1990s as lead singer of R&B girl-group Destiny\\'s Child. Managed by her father, Mathew Knowles, the group became one of the world\\'s best-selling girl groups of all time. Their hiatus saw the release of Beyoncé\\'s debut album, Dangerously in Love (2003), which established her as a solo artist worldwide, earned five Grammy Awards and featured the Billboard Hot 100 number-one singles \"Crazy in Love\" and \"Baby Boy\".', 'question': 'When did Beyonce start becoming popular?', 'answers': {'text': ['in the late 1990s'], 'answer_start': [269]}}\n"
     ]
    }
   ],
   "source": [
    "from datasets import load_dataset\n",
    "\n",
    "dataset_name = \"squad_v2\"\n",
    "\n",
    "dataset = load_dataset(dataset_name)\n",
    "\n",
    "print(dataset)\n",
    "\n",
    "sample = dataset[\"train\"][0]\n",
    "print(sample)"
   ]
  },
  {
   "cell_type": "markdown",
   "id": "a6638da8-8f39-4417-b9da-ad65ebcc689b",
   "metadata": {},
   "source": [
    "### 2. Setup OpenSearch Index & Model For Experiment(创建用于测试的AOS索引 & 模型) "
   ]
  },
  {
   "cell_type": "markdown",
   "id": "18b26aa3",
   "metadata": {},
   "source": [
    "- Setup Sparse vector model(创建Sparse Vector模型)\n",
    "  + 进入OpenSearch的Integration页面, 由于咱们OpenSearch集群是部署在VPC中的，所以选择“Configure VPC Domain”，会弹出一个Cloudformation模版填写。\n",
    "    ![integration_1.png](./integration_1.png)<br>\n",
    "    + vpc请选择OpenSearch所在的vpc，security group选择为OpenSearch同一个\n",
    "    + 子网subnet请选择对应的Private subnet \n",
    "    <br>\n",
    "  + 验证部署的nerual-sparse模型\n",
    "    进入cloudformation对应stack，切换到output, 获取modelId, ConnecterId 以及Sagemaker endpoint\n",
    "    ![nerual-sparse.png](./nerual-sparse.png)"
   ]
  },
  {
   "cell_type": "markdown",
   "id": "a7dc9623",
   "metadata": {},
   "source": [
    "- Setup Cohere Multilingual Model & ingestion pipeline(创建cohere模型以及ingest的pipeline)"
   ]
  },
  {
   "cell_type": "code",
   "execution_count": 21,
   "id": "00a2c9c3-d373-4e48-b519-47c02ebe9155",
   "metadata": {
    "tags": []
   },
   "outputs": [],
   "source": [
    "aos_endpoint='vpc-domain66ac69e0-2m4jji7cweof-4fefsofiqdzu3hxammxwq5hth4.us-west-2.es.amazonaws.com'\n",
    "# sparse_model_id=<sparse_model_id> # look for sparse_model_id in the output of Cloudformation\n",
    "index_name=\"aos-retrieval\""
   ]
  },
  {
   "cell_type": "code",
   "execution_count": null,
   "id": "6662fcc8-e8e4-4e89-8e3c-7b93ddb49626",
   "metadata": {
    "tags": []
   },
   "outputs": [],
   "source": [
    "!python3 setup_model_and_pipeline.py --aos_endpoint {aos_endpoint} --sparse_model_id {sparse_model_id} --index_name {index_name}"
   ]
  },
  {
   "cell_type": "markdown",
   "id": "ec148e7a-bf91-4141-8d8f-de8fad696f03",
   "metadata": {},
   "source": [
    "- Extarct dense_model_id for query embedding from Output of previous cell(根据上个Cell的输出提取query向量化的模型ID)"
   ]
  },
  {
   "cell_type": "code",
   "execution_count": null,
   "id": "0ecea6af-ac70-41e8-9439-345acb8106ee",
   "metadata": {},
   "outputs": [],
   "source": [
    "dense_model_id=<dense_model_id>"
   ]
  },
  {
   "cell_type": "markdown",
   "id": "0a95496e",
   "metadata": {},
   "source": [
    "### 3. Ingest Data（执行数据摄入）"
   ]
  },
  {
   "cell_type": "code",
   "execution_count": 29,
   "id": "dc712f28-6106-445b-91fe-f7de59d08a9d",
   "metadata": {
    "tags": []
   },
   "outputs": [
    {
     "name": "stdout",
     "output_type": "stream",
     "text": [
      "0-th ingested.\n",
      "200-th ingested.\n",
      "400-th ingested.\n",
      "600-th ingested.\n",
      "800-th ingested.\n",
      "1000-th ingested.\n"
     ]
    }
   ],
   "source": [
    "import json\n",
    "from setup_model_and_pipeline import get_aos_client\n",
    "\n",
    "def ingest_data(aos_client, index_name, content):    \n",
    "    request_body = {\n",
    "        \"content\": content\n",
    "    }\n",
    "\n",
    "    response = aos_client.transport.perform_request(\n",
    "        method=\"POST\",\n",
    "        url=f\"/{index_name}/_doc\",\n",
    "        body=json.dumps(request_body)\n",
    "    )\n",
    "\n",
    "    return response\n",
    "\n",
    "aos_client = get_aos_client(aos_endpoint)\n",
    "\n",
    "for idx, item in enumerate(dataset[\"train\"].select(range(1000))):\n",
    "    try:\n",
    "        response = ingest_data(aos_client, index_name, item['context'][:2000])\n",
    "        if idx % 50 == 0:\n",
    "            print(f\"{idx}-th ingested.\")\n",
    "    except Exception as e:\n",
    "        print(e)\n",
    "        print(item['context'])"
   ]
  },
  {
   "cell_type": "markdown",
   "id": "1fcb9d59-43c4-4752-a038-6ab0bda1dc17",
   "metadata": {
    "tags": []
   },
   "source": [
    "### 4. Search benchmark （查询性能测试）"
   ]
  },
  {
   "cell_type": "code",
   "execution_count": 69,
   "id": "d1402872-ed71-4101-bfec-be6716582079",
   "metadata": {},
   "outputs": [],
   "source": [
    "from search_func import search_by_bm25, search_by_dense, search_by_sparse, search_by_dense_sparse, search_by_dense_bm25"
   ]
  },
  {
   "cell_type": "code",
   "execution_count": 63,
   "id": "32064f08-c3a1-4bcc-ab39-69284787f3a4",
   "metadata": {},
   "outputs": [
    {
     "name": "stdout",
     "output_type": "stream",
     "text": [
      "0-th searched.\n",
      "200-th searched.\n",
      "400-th searched.\n",
      "600-th searched.\n",
      "800-th searched.\n",
      "[search_by_bm25] hit:605, miss:395, elpase_time:31.39031982421875\n"
     ]
    }
   ],
   "source": [
    "import time\n",
    "\n",
    "hit_cnt = 0\n",
    "miss_cnt = 0\n",
    "start = time.time()\n",
    "for idx, item in enumerate(dataset[\"train\"].select(range(1000))):\n",
    "    query = item['question']\n",
    "    content = item['context']\n",
    "    if idx % 50 == 0:\n",
    "        print(f\"{idx}-th searched.\")\n",
    "    results = search_by_bm25(aos_client, index_name, query)\n",
    "    if content in results:\n",
    "        hit_cnt += 1\n",
    "    else:\n",
    "        miss_cnt += 1\n",
    "        \n",
    "elpase_time = time.time() - start\n",
    "print(f\"[search_by_bm25] hit:{hit_cnt}, miss:{miss_cnt}, elpase_time:{elpase_time}\")"
   ]
  },
  {
   "cell_type": "code",
   "execution_count": 71,
   "id": "d5a483e3-ab7a-4d85-b4b8-38c19c1e2086",
   "metadata": {},
   "outputs": [
    {
     "name": "stdout",
     "output_type": "stream",
     "text": [
      "0-th searched.\n",
      "200-th searched.\n",
      "400-th searched.\n",
      "600-th searched.\n",
      "800-th searched.\n",
      "[search_by_dense] hit:772, miss:228, elpase_time:391.7816433906555\n"
     ]
    }
   ],
   "source": [
    "import time\n",
    "\n",
    "hit_cnt = 0\n",
    "miss_cnt = 0\n",
    "start = time.time()\n",
    "for idx, item in enumerate(dataset[\"train\"].select(range(1000))):\n",
    "    query = item['question']\n",
    "    content = item['context']\n",
    "    if idx % 50 == 0:\n",
    "        print(f\"{idx}-th searched.\")\n",
    "    results = search_by_dense(aos_client, index_name, query, dense_model_id)\n",
    "    if content in results:\n",
    "        hit_cnt += 1\n",
    "    else:\n",
    "        miss_cnt += 1\n",
    "        \n",
    "elpase_time = time.time() - start\n",
    "print(f\"[search_by_dense] hit:{hit_cnt}, miss:{miss_cnt}, elpase_time:{elpase_time}\")"
   ]
  },
  {
   "cell_type": "code",
   "execution_count": 72,
   "id": "77e55b4b-ae09-4228-b378-06b1a1c97be5",
   "metadata": {},
   "outputs": [
    {
     "name": "stdout",
     "output_type": "stream",
     "text": [
      "0-th searched.\n",
      "200-th searched.\n",
      "400-th searched.\n",
      "600-th searched.\n",
      "800-th searched.\n",
      "[search_by_sparse] hit:718, miss:282, elpase_time:459.3156998157501\n"
     ]
    }
   ],
   "source": [
    "hit_cnt = 0\n",
    "miss_cnt = 0\n",
    "sparse_model_id = 'EVNZh4wBpwn7Z6ncaEtm'\n",
    "start = time.time()\n",
    "for idx, item in enumerate(dataset[\"train\"].select(range(1000))):\n",
    "    query = item['question']\n",
    "    content = item['context']\n",
    "    if idx % 50 == 0:\n",
    "        print(f\"{idx}-th searched.\")\n",
    "    results = search_by_sparse(aos_client, index_name, query, sparse_model_id)\n",
    "    if content in results:\n",
    "        hit_cnt += 1\n",
    "    else:\n",
    "        miss_cnt += 1\n",
    "\n",
    "elpase_time = time.time() - start\n",
    "print(f\"[search_by_sparse] hit:{hit_cnt}, miss:{miss_cnt}, elpase_time:{elpase_time}\")"
   ]
  },
  {
   "cell_type": "code",
   "execution_count": 77,
   "id": "1cb7fc7d-3f63-4c6b-9277-fe53d492f01f",
   "metadata": {},
   "outputs": [
    {
     "name": "stdout",
     "output_type": "stream",
     "text": [
      "0-th searched.\n",
      "50-th searched.\n",
      "100-th searched.\n",
      "150-th searched.\n",
      "200-th searched.\n",
      "250-th searched.\n",
      "300-th searched.\n",
      "350-th searched.\n",
      "400-th searched.\n",
      "450-th searched.\n",
      "500-th searched.\n",
      "550-th searched.\n",
      "600-th searched.\n",
      "650-th searched.\n",
      "700-th searched.\n",
      "750-th searched.\n",
      "800-th searched.\n",
      "850-th searched.\n",
      "900-th searched.\n",
      "950-th searched.\n",
      "[search_by_dense_sparse] hit:840, miss:160, elpase_time:471.84466671943665\n"
     ]
    }
   ],
   "source": [
    "hit_cnt = 0\n",
    "miss_cnt = 0\n",
    "start = time.time()\n",
    "for idx, item in enumerate(dataset[\"train\"].select(range(1000))):\n",
    "    query = item['question']\n",
    "    content = item['context']\n",
    "    if idx % 50 == 0:\n",
    "        print(f\"{idx}-th searched.\")\n",
    "    results = search_by_dense_sparse(aos_client, index_name, query, sparse_model_id, dense_model_id)\n",
    "    if content in results:\n",
    "        hit_cnt += 1\n",
    "    else:\n",
    "        miss_cnt += 1\n",
    "\n",
    "elpase_time = time.time() - start\n",
    "print(f\"[search_by_dense_sparse] hit:{hit_cnt}, miss:{miss_cnt}, elpase_time:{elpase_time}\")"
   ]
  },
  {
   "cell_type": "code",
   "execution_count": 82,
   "id": "72d06688-d3ac-4427-be6b-36a4c0c0b176",
   "metadata": {},
   "outputs": [
    {
     "name": "stdout",
     "output_type": "stream",
     "text": [
      "0-th searched.\n",
      "50-th searched.\n",
      "100-th searched.\n",
      "150-th searched.\n",
      "200-th searched.\n",
      "250-th searched.\n",
      "300-th searched.\n",
      "350-th searched.\n",
      "400-th searched.\n",
      "450-th searched.\n",
      "500-th searched.\n",
      "550-th searched.\n",
      "600-th searched.\n",
      "650-th searched.\n",
      "700-th searched.\n",
      "750-th searched.\n",
      "800-th searched.\n",
      "850-th searched.\n",
      "900-th searched.\n",
      "950-th searched.\n",
      "[search_by_dense_sparse] hit:725, miss:275, elpase_time:409.31755113601685\n"
     ]
    }
   ],
   "source": [
    "hit_cnt = 0\n",
    "miss_cnt = 0\n",
    "dense_model_id = \"GLthh4wBsY2vwfNenYNZ\"\n",
    "start = time.time()\n",
    "for idx, item in enumerate(dataset[\"train\"].select(range(1000))):\n",
    "    query = item['question']\n",
    "    content = item['context']\n",
    "    if idx % 50 == 0:\n",
    "        print(f\"{idx}-th searched.\")\n",
    "    results = search_by_dense_bm25(aos_client, index_name, query, dense_model_id)\n",
    "    if content in results:\n",
    "        hit_cnt += 1\n",
    "    else:\n",
    "        miss_cnt += 1\n",
    "\n",
    "elpase_time = time.time() - start\n",
    "print(f\"[search_by_dense_sparse] hit:{hit_cnt}, miss:{miss_cnt}, elpase_time:{elpase_time}\")"
   ]
  }
 ],
 "metadata": {
  "kernelspec": {
   "display_name": "conda_python3",
   "language": "python",
   "name": "conda_python3"
  },
  "language_info": {
   "codemirror_mode": {
    "name": "ipython",
    "version": 3
   },
   "file_extension": ".py",
   "mimetype": "text/x-python",
   "name": "python",
   "nbconvert_exporter": "python",
   "pygments_lexer": "ipython3",
   "version": "3.10.13"
  }
 },
 "nbformat": 4,
 "nbformat_minor": 5
}
