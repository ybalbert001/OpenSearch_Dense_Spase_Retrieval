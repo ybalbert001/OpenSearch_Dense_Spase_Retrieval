{
 "cells": [
  {
   "cell_type": "code",
   "execution_count": null,
   "id": "6c197463-fb38-4507-afc1-b6bf6c093b29",
   "metadata": {
    "tags": []
   },
   "outputs": [],
   "source": [
    "!pip install -q datasets\n",
    "!pip3 install boto3 requests requests_aws4auth argparse opensearch-py"
   ]
  },
  {
   "cell_type": "markdown",
   "id": "525c2b38-796c-4bc9-ad87-555a2017074b",
   "metadata": {},
   "source": [
    "### 1. 下载测试数据squad_v2"
   ]
  },
  {
   "cell_type": "code",
   "execution_count": 11,
   "id": "8d406d8c-5680-47fa-bbc3-ad0e34da41d2",
   "metadata": {
    "tags": []
   },
   "outputs": [
    {
     "name": "stderr",
     "output_type": "stream",
     "text": [
      "/home/ec2-user/anaconda3/envs/python3/lib/python3.10/site-packages/pandas/core/computation/expressions.py:21: UserWarning: Pandas requires version '2.8.0' or newer of 'numexpr' (version '2.7.3' currently installed).\n",
      "  from pandas.core.computation.check import NUMEXPR_INSTALLED\n"
     ]
    },
    {
     "name": "stdout",
     "output_type": "stream",
     "text": [
      "DatasetDict({\n",
      "    train: Dataset({\n",
      "        features: ['id', 'title', 'context', 'question', 'answers'],\n",
      "        num_rows: 130319\n",
      "    })\n",
      "    validation: Dataset({\n",
      "        features: ['id', 'title', 'context', 'question', 'answers'],\n",
      "        num_rows: 11873\n",
      "    })\n",
      "})\n",
      "{'id': '56be85543aeaaa14008c9063', 'title': 'Beyoncé', 'context': 'Beyoncé Giselle Knowles-Carter (/biːˈjɒnseɪ/ bee-YON-say) (born September 4, 1981) is an American singer, songwriter, record producer and actress. Born and raised in Houston, Texas, she performed in various singing and dancing competitions as a child, and rose to fame in the late 1990s as lead singer of R&B girl-group Destiny\\'s Child. Managed by her father, Mathew Knowles, the group became one of the world\\'s best-selling girl groups of all time. Their hiatus saw the release of Beyoncé\\'s debut album, Dangerously in Love (2003), which established her as a solo artist worldwide, earned five Grammy Awards and featured the Billboard Hot 100 number-one singles \"Crazy in Love\" and \"Baby Boy\".', 'question': 'When did Beyonce start becoming popular?', 'answers': {'text': ['in the late 1990s'], 'answer_start': [269]}}\n"
     ]
    }
   ],
   "source": [
    "from datasets import load_dataset\n",
    "\n",
    "# 选择要下载的数据集名称，可以在 Hugging Face 数据集网站上查找\n",
    "dataset_name = \"squad_v2\"\n",
    "\n",
    "# 下载数据集\n",
    "dataset = load_dataset(dataset_name)\n",
    "\n",
    "# 打印数据集信息\n",
    "print(dataset)\n",
    "\n",
    "# 访问数据集中的示例\n",
    "sample = dataset[\"train\"][0]\n",
    "print(sample)"
   ]
  },
  {
   "cell_type": "markdown",
   "id": "a6638da8-8f39-4417-b9da-ad65ebcc689b",
   "metadata": {},
   "source": [
    "### 2. 创建用于测试的AOS索引 & 模型"
   ]
  },
  {
   "cell_type": "markdown",
   "id": "18b26aa3",
   "metadata": {},
   "source": [
    "- 创建sparse model\n",
    "  + 进入OpenSearch的Integration页面, 由于咱们OpenSearch集群是部署在VPC中的，所以选择“Configure VPC Domain”，会弹出一个Cloudformation模版填写。\n",
    "    ![integration_1.png](./integration_1.png)<br>\n",
    "    + vpc请选择OpenSearch所在的vpc，security group选择为OpenSearch同一个\n",
    "    + 子网subnet请选择对应的Private subnet \n",
    "    <br>\n",
    "  + 验证部署的nerual-sparse模型\n",
    "    进入cloudformation对应stack，切换到output, 获取modelId, ConnecterId 以及Sagemaker endpoint\n",
    "    ![nerual-sparse.png](./nerual-sparse.png)"
   ]
  },
  {
   "cell_type": "markdown",
   "id": "a7dc9623",
   "metadata": {},
   "source": [
    "- 创建cohere模型以及ingest的pipeline"
   ]
  },
  {
   "cell_type": "code",
   "execution_count": 21,
   "id": "00a2c9c3-d373-4e48-b519-47c02ebe9155",
   "metadata": {
    "tags": []
   },
   "outputs": [],
   "source": [
    "aos_endpoint='vpc-domain66ac69e0-2m4jji7cweof-4fefsofiqdzu3hxammxwq5hth4.us-west-2.es.amazonaws.com'\n",
    "# sparse_model_id=<sparse_model_id> # 需要在cloudformation中去找\n",
    "sparse_model_id=\"EVNZh4wBpwn7Z6ncaEtm\"\n",
    "index_name=\"aos-retrieval\""
   ]
  },
  {
   "cell_type": "code",
   "execution_count": null,
   "id": "6662fcc8-e8e4-4e89-8e3c-7b93ddb49626",
   "metadata": {
    "tags": []
   },
   "outputs": [],
   "source": [
    "!python3 setup_model_and_pipeline.py --aos_endpoint {aos_endpoint} --sparse_model_id {sparse_model_id} --index_name {index_name}"
   ]
  },
  {
   "cell_type": "markdown",
   "id": "0a95496e",
   "metadata": {},
   "source": [
    "### 3. 执行数据摄入"
   ]
  },
  {
   "cell_type": "code",
   "execution_count": 29,
   "id": "dc712f28-6106-445b-91fe-f7de59d08a9d",
   "metadata": {
    "tags": []
   },
   "outputs": [
    {
     "name": "stdout",
     "output_type": "stream",
     "text": [
      "0-th ingested.\n",
      "200-th ingested.\n",
      "400-th ingested.\n",
      "600-th ingested.\n",
      "800-th ingested.\n",
      "1000-th ingested.\n"
     ]
    }
   ],
   "source": [
    "import json\n",
    "from setup_model_and_pipeline import get_aos_client\n",
    "\n",
    "def ingest_data(aos_client, index_name, content):    \n",
    "    request_body = {\n",
    "        \"content\": content\n",
    "    }\n",
    "\n",
    "    response = aos_client.transport.perform_request(\n",
    "        method=\"POST\",\n",
    "        url=f\"/{index_name}/_doc\",\n",
    "        body=json.dumps(request_body)\n",
    "    )\n",
    "\n",
    "    return response\n",
    "\n",
    "aos_client = get_aos_client(aos_endpoint)\n",
    "\n",
    "for idx, item in enumerate(dataset[\"train\"]):\n",
    "    try:\n",
    "        response = ingest_data(aos_client, index_name, item['context'][:2000])\n",
    "        if idx % 200 == 0:\n",
    "            print(f\"{idx}-th ingested.\")\n",
    "        if idx == 1000:\n",
    "            break\n",
    "    except Exception as e:\n",
    "        print(e)\n",
    "        print(item['context'])"
   ]
  },
  {
   "cell_type": "markdown",
   "id": "1fcb9d59-43c4-4752-a038-6ab0bda1dc17",
   "metadata": {
    "tags": []
   },
   "source": [
    "### 4. 执行查询"
   ]
  },
  {
   "cell_type": "code",
   "execution_count": 42,
   "id": "d1402872-ed71-4101-bfec-be6716582079",
   "metadata": {},
   "outputs": [],
   "source": [
    "def search_by_bm25(aos_client, index_name, query, topk=4):    \n",
    "    request_body = {\n",
    "      \"size\": topk,\n",
    "      \"query\": {\n",
    "        \"match\": {\n",
    "            \"content\" : query\n",
    "        }\n",
    "      }\n",
    "    }\n",
    "\n",
    "    response = aos_client.transport.perform_request(\n",
    "        method=\"GET\",\n",
    "        url=f\"/{index_name}/_search\",\n",
    "        body=json.dumps(request_body)\n",
    "    )\n",
    "\n",
    "    docs = [hit[\"_source\"]['content'] for hit in response[\"hits\"][\"hits\"]]\n",
    "    return docs\n",
    "\n",
    "def search_by_dense(aos_client, index_name, query, dense_model_id, topk=4):\n",
    "    request_body = {\n",
    "        \"query\": {\n",
    "            \"neural\": {\n",
    "                \"dense_embedding\": {\n",
    "                  \"query_text\": query,\n",
    "                  \"model_id\": dense_model_id,\n",
    "                  \"k\": topk\n",
    "                }\n",
    "            }\n",
    "        }\n",
    "    }\n",
    "\n",
    "    response = aos_client.transport.perform_request(\n",
    "        method=\"GET\",\n",
    "        url=f\"/{index_name}/_search\",\n",
    "        body=json.dumps(request_body)\n",
    "    )\n",
    "\n",
    "    docs = [hit[\"_source\"]['content'] for hit in response[\"hits\"][\"hits\"]]\n",
    "    return docs\n",
    "\n",
    "def search_by_sparse(aos_client, index_name, query, sparse_model_id, topk=4):\n",
    "    request_body = {\n",
    "      \"query\": {\n",
    "          \"size\": topk,\n",
    "          \"neural_sparse\": {\n",
    "              \"sparse_embedding\": {\n",
    "                \"query_text\": query,\n",
    "                \"model_id\": sparse_model_id,\n",
    "                \"max_token_score\": 3.5\n",
    "              }\n",
    "          }\n",
    "      }\n",
    "    }\n",
    "\n",
    "    response = aos_client.transport.perform_request(\n",
    "        method=\"GET\",\n",
    "        url=f\"/{index_name}/_search\",\n",
    "        body=json.dumps(request_body)\n",
    "    )\n",
    "\n",
    "    docs = [hit[\"_source\"]['content'] for hit in response[\"hits\"][\"hits\"]]\n",
    "    return docs\n",
    "\n",
    "def search_by_dense_sparse(aos_client, index_name, query, sparse_model_id, dense_model_id, topk=4):\n",
    "    request_body = {\n",
    "      \"query\": {\n",
    "        \"size\": topk,\n",
    "        \"hybrid\": {\n",
    "          \"queries\": [\n",
    "            {\n",
    "              \"neural_sparse\": {\n",
    "                  \"sparse_embedding\": {\n",
    "                    \"query_text\": query,\n",
    "                    \"model_id\": sparse_model_id,\n",
    "                    \"max_token_score\": 3.5\n",
    "                  }\n",
    "              }\n",
    "            },\n",
    "            {\n",
    "              \"neural\": {\n",
    "                  \"dense_embedding\": {\n",
    "                      \"query_text\": query,\n",
    "                      \"model_id\": dense_model_id,\n",
    "                      \"k\": 10\n",
    "                    }\n",
    "                }\n",
    "            }\n",
    "          ]\n",
    "        }\n",
    "      }\n",
    "    }\n",
    "\n",
    "    response = aos_client.transport.perform_request(\n",
    "        method=\"GET\",\n",
    "        url=f\"/{index_name}/_search?search_pipeline=hybird-search-pipeline\",\n",
    "        body=json.dumps(request_body)\n",
    "    )\n",
    "\n",
    "    docs = [hit[\"_source\"]['content'] for hit in response[\"hits\"][\"hits\"]]\n",
    "    return docs\n",
    "\n",
    "def search_by_dense_bm25(aos_client, index_name, query, dense_model_id, topk=4):\n",
    "    request_body = {\n",
    "      \"size\": topk,\n",
    "      \"query\": {\n",
    "        \"hybrid\": {\n",
    "          \"queries\": [\n",
    "            {\n",
    "              \"query\": {\n",
    "                  \"match\": {\n",
    "                    \"query_text\": query\n",
    "                  }\n",
    "              }\n",
    "            },\n",
    "            {\n",
    "              \"neural\": {\n",
    "                  \"dense_embedding\": {\n",
    "                      \"query_text\": query,\n",
    "                      \"model_id\": dense_model_id,\n",
    "                      \"k\": 10\n",
    "                    }\n",
    "                }\n",
    "            }\n",
    "          ]\n",
    "        }\n",
    "      }\n",
    "    }\n",
    "\n",
    "    response = aos_client.transport.perform_request(\n",
    "        method=\"GET\",\n",
    "        url=f\"/{index_name}/_search?search_pipeline=hybird-search-pipeline\",\n",
    "        body=json.dumps(request_body)\n",
    "    )\n",
    "\n",
    "    docs = [hit[\"_source\"]['content'] for hit in response[\"hits\"][\"hits\"]]\n",
    "    return docs"
   ]
  },
  {
   "cell_type": "code",
   "execution_count": 40,
   "id": "32064f08-c3a1-4bcc-ab39-69284787f3a4",
   "metadata": {},
   "outputs": [
    {
     "name": "stdout",
     "output_type": "stream",
     "text": [
      "0-th searched.\n",
      "200-th searched.\n",
      "400-th searched.\n",
      "600-th searched.\n",
      "800-th searched.\n",
      "1000-th searched.\n",
      "[search_by_bm25] hit:605, miss:395, elpase_time:33.366294384002686\n"
     ]
    }
   ],
   "source": [
    "import time\n",
    "\n",
    "hit_cnt = 0\n",
    "miss_cnt = 0\n",
    "start = time.time()\n",
    "for idx, item in enumerate(dataset[\"train\"]):\n",
    "    query = item['question']\n",
    "    content = item['context']\n",
    "    if idx % 200 == 0:\n",
    "        print(f\"{idx}-th searched.\")\n",
    "    if idx == 1000:\n",
    "        break\n",
    "    results = search_by_bm25(aos_client, index_name, query)\n",
    "    if content in results:\n",
    "        hit_cnt += 1\n",
    "    else:\n",
    "        miss_cnt += 1\n",
    "        \n",
    "elpase_time = time.time() - start\n",
    "print(f\"[search_by_bm25] hit:{hit_cnt}, miss:{miss_cnt}, elpase_time:{elpase_time}\")"
   ]
  },
  {
   "cell_type": "code",
   "execution_count": null,
   "id": "d5a483e3-ab7a-4d85-b4b8-38c19c1e2086",
   "metadata": {},
   "outputs": [],
   "source": [
    "import time\n",
    "\n",
    "hit_cnt = 0\n",
    "miss_cnt = 0\n",
    "start = time.time()\n",
    "dense_model_id = \"GLthh4wBsY2vwfNenYNZ\"\n",
    "for idx, item in enumerate(dataset[\"train\"]):\n",
    "    query = item['question']\n",
    "    content = item['context']\n",
    "    if idx % 200 == 0:\n",
    "        print(f\"{idx}-th searched.\")\n",
    "    if idx == 1000:\n",
    "        break\n",
    "    results = search_by_dense(aos_client, index_name, query, dense_model_id)\n",
    "    if content in results:\n",
    "        hit_cnt += 1\n",
    "    else:\n",
    "        miss_cnt += 1\n",
    "        \n",
    "elpase_time = time.time() - start\n",
    "print(f\"[search_by_dense] hit:{hit_cnt}, miss:{miss_cnt}, elpase_time:{elpase_time}\")"
   ]
  },
  {
   "cell_type": "code",
   "execution_count": null,
   "id": "77e55b4b-ae09-4228-b378-06b1a1c97be5",
   "metadata": {},
   "outputs": [],
   "source": [
    "hit_cnt = 0\n",
    "miss_cnt = 0\n",
    "sparse_model_id = <sparse_model_id>\n",
    "for idx, item in enumerate(dataset[\"train\"]):\n",
    "    query = item['question']\n",
    "    content = item['context']\n",
    "    if idx % 200 == 0:\n",
    "        print(f\"{idx}-th searched.\")\n",
    "    results = search_by_sparse(aos_client, index_name, query, sparse_model_id)\n",
    "    if content in results:\n",
    "        hit_cnt += 1\n",
    "    else:\n",
    "        miss_cnt += 1\n",
    "        \n",
    "print(f\"[search_by_sparse] hit:{hit_cnt}, miss:{miss_cnt}\")"
   ]
  },
  {
   "cell_type": "code",
   "execution_count": null,
   "id": "1cb7fc7d-3f63-4c6b-9277-fe53d492f01f",
   "metadata": {},
   "outputs": [],
   "source": [
    "hit_cnt = 0\n",
    "miss_cnt = 0\n",
    "sparse_model_id = <sparse_model_id>\n",
    "dense_model_id = <dense_model_id>\n",
    "for idx, item in enumerate(dataset[\"train\"]):\n",
    "    query = item['question']\n",
    "    content = item['context']\n",
    "    if idx % 200 == 0:\n",
    "        print(f\"{idx}-th searched.\")\n",
    "    results = search_by_dense_sparse(aos_client, index_name, query, sparse_model_id, dense_model_id)\n",
    "    if content in results:\n",
    "        hit_cnt += 1\n",
    "    else:\n",
    "        miss_cnt += 1\n",
    "        \n",
    "print(f\"[search_by_dense_sparse] hit:{hit_cnt}, miss:{miss_cnt}\")"
   ]
  },
  {
   "cell_type": "code",
   "execution_count": null,
   "id": "72d06688-d3ac-4427-be6b-36a4c0c0b176",
   "metadata": {},
   "outputs": [],
   "source": [
    "hit_cnt = 0\n",
    "miss_cnt = 0\n",
    "dense_model_id = <dense_model_id>\n",
    "for idx, item in enumerate(dataset[\"train\"]):\n",
    "    query = item['question']\n",
    "    content = item['context']\n",
    "    if idx % 200 == 0:\n",
    "        print(f\"{idx}-th searched.\")\n",
    "    results = search_by_dense_bm25(aos_client, index_name, query, dense_model_id)\n",
    "    if content in results:\n",
    "        hit_cnt += 1\n",
    "    else:\n",
    "        miss_cnt += 1\n",
    "        \n",
    "print(f\"[search_by_dense_bm25] hit:{hit_cnt}, miss:{miss_cnt}\")"
   ]
  }
 ],
 "metadata": {
  "kernelspec": {
   "display_name": "conda_python3",
   "language": "python",
   "name": "conda_python3"
  },
  "language_info": {
   "codemirror_mode": {
    "name": "ipython",
    "version": 3
   },
   "file_extension": ".py",
   "mimetype": "text/x-python",
   "name": "python",
   "nbconvert_exporter": "python",
   "pygments_lexer": "ipython3",
   "version": "3.10.13"
  }
 },
 "nbformat": 4,
 "nbformat_minor": 5
}
